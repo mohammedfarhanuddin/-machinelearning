{
  "nbformat": 4,
  "nbformat_minor": 0,
  "metadata": {
    "colab": {
      "provenance": [],
      "mount_file_id": "1kVW55YYX-Q2VLdJ3OU1cgv2hvRFIs-ai",
      "authorship_tag": "ABX9TyOVnr7lb86MOyHA3sZ+zdCO",
      "include_colab_link": true
    },
    "kernelspec": {
      "name": "python3",
      "display_name": "Python 3"
    },
    "language_info": {
      "name": "python"
    }
  },
  "cells": [
    {
      "cell_type": "markdown",
      "metadata": {
        "id": "view-in-github",
        "colab_type": "text"
      },
      "source": [
        "<a href=\"https://colab.research.google.com/github/mohammedfarhanuddin/-machinelearning/blob/main/spamhamfiltering.ipynb\" target=\"_parent\"><img src=\"https://colab.research.google.com/assets/colab-badge.svg\" alt=\"Open In Colab\"/></a>"
      ]
    },
    {
      "cell_type": "code",
      "execution_count": null,
      "metadata": {
        "id": "KGgD52m5T6L6"
      },
      "outputs": [],
      "source": [
        "import numpy as np\n",
        "import pandas as pd\n",
        "from sklearn.model_selection import train_test_split\n",
        "from sklearn.feature_extraction.text import TfidfVectorizer\n",
        "from sklearn.linear_model import LogisticRegression\n",
        "from sklearn.metrics import accuracy_score"
      ]
    },
    {
      "cell_type": "code",
      "source": [
        "raw_mail_data = pd.read_csv('/content/mail_data (2).csv')\n"
      ],
      "metadata": {
        "id": "UDdThRD2b5aY"
      },
      "execution_count": null,
      "outputs": []
    },
    {
      "cell_type": "code",
      "source": [
        "mail_data = raw_mail_data.where((pd.notnull(raw_mail_data)),'')"
      ],
      "metadata": {
        "id": "yqv6OOhMcWB3"
      },
      "execution_count": null,
      "outputs": []
    },
    {
      "cell_type": "markdown",
      "source": [],
      "metadata": {
        "id": "i3xX987TcT0A"
      }
    },
    {
      "cell_type": "code",
      "source": [
        "mail_data.shape"
      ],
      "metadata": {
        "colab": {
          "base_uri": "https://localhost:8080/"
        },
        "id": "ftTxW-dwdw3J",
        "outputId": "b12f9367-3c88-4018-c9db-358445051979"
      },
      "execution_count": null,
      "outputs": [
        {
          "output_type": "execute_result",
          "data": {
            "text/plain": [
              "(5572, 2)"
            ]
          },
          "metadata": {},
          "execution_count": 10
        }
      ]
    },
    {
      "cell_type": "code",
      "source": [
        "mail_data.loc[mail_data['Category'] == 'spam' , 'Category' ,] = 0\n",
        "mail_data.loc[mail_data['Category'] == 'ham' , 'Category' ,] = 1"
      ],
      "metadata": {
        "id": "ZRHN9gDBegPX"
      },
      "execution_count": null,
      "outputs": []
    },
    {
      "cell_type": "code",
      "source": [
        "x = mail_data['Message']\n",
        "y = mail_data['Category']"
      ],
      "metadata": {
        "id": "ZuBbd9QQfZFs"
      },
      "execution_count": null,
      "outputs": []
    },
    {
      "cell_type": "code",
      "source": [
        "print(x)"
      ],
      "metadata": {
        "colab": {
          "base_uri": "https://localhost:8080/"
        },
        "id": "0oHJn7S1ftHb",
        "outputId": "76e9f305-ceac-421c-eee6-c1dbf7af9cbc"
      },
      "execution_count": null,
      "outputs": [
        {
          "output_type": "stream",
          "name": "stdout",
          "text": [
            "0       Go until jurong point, crazy.. Available only ...\n",
            "1                           Ok lar... Joking wif u oni...\n",
            "2       Free entry in 2 a wkly comp to win FA Cup fina...\n",
            "3       U dun say so early hor... U c already then say...\n",
            "4       Nah I don't think he goes to usf, he lives aro...\n",
            "                              ...                        \n",
            "5567    This is the 2nd time we have tried 2 contact u...\n",
            "5568                 Will ü b going to esplanade fr home?\n",
            "5569    Pity, * was in mood for that. So...any other s...\n",
            "5570    The guy did some bitching but I acted like i'd...\n",
            "5571                           Rofl. Its true to its name\n",
            "Name: Message, Length: 5572, dtype: object\n"
          ]
        }
      ]
    },
    {
      "cell_type": "code",
      "source": [
        "print(y)"
      ],
      "metadata": {
        "colab": {
          "base_uri": "https://localhost:8080/"
        },
        "id": "APyGfvmqf5Je",
        "outputId": "f20d5ab0-fac2-4587-8372-b29b4fdc9954"
      },
      "execution_count": null,
      "outputs": [
        {
          "output_type": "stream",
          "name": "stdout",
          "text": [
            "0       1\n",
            "1       1\n",
            "2       0\n",
            "3       1\n",
            "4       1\n",
            "       ..\n",
            "5567    0\n",
            "5568    1\n",
            "5569    1\n",
            "5570    1\n",
            "5571    1\n",
            "Name: Category, Length: 5572, dtype: object\n"
          ]
        }
      ]
    },
    {
      "cell_type": "code",
      "source": [
        "X_train, X_test, Y_train, Y_test = train_test_split(x ,y , test_size=0.2 ,random_state=3)"
      ],
      "metadata": {
        "id": "kvBsowB-gsWQ"
      },
      "execution_count": null,
      "outputs": []
    },
    {
      "cell_type": "code",
      "source": [
        "print(x.shape)\n",
        "print(X_train.shape)\n",
        "print(X_test.shape)"
      ],
      "metadata": {
        "colab": {
          "base_uri": "https://localhost:8080/"
        },
        "id": "4Z8q68TihrR6",
        "outputId": "e017c7b9-a2ee-43a3-9b3f-fdc67fd2b59b"
      },
      "execution_count": null,
      "outputs": [
        {
          "output_type": "stream",
          "name": "stdout",
          "text": [
            "(5572,)\n",
            "(4457,)\n",
            "(1115,)\n"
          ]
        }
      ]
    },
    {
      "cell_type": "code",
      "source": [
        "feature_extraction = TfidfVectorizer(min_df=1 , stop_words='english' , lowercase=True)\n",
        "X_train_features = feature_extraction.fit_transform(X_train)\n",
        "X_test_features = feature_extraction.transform(X_test)\n",
        "Y_train = Y_train.astype('int')\n",
        "Y_test = Y_test.astype('int')"
      ],
      "metadata": {
        "id": "rrppSY4Pj31G"
      },
      "execution_count": null,
      "outputs": []
    },
    {
      "cell_type": "code",
      "source": [
        "print(X_train_features)"
      ],
      "metadata": {
        "colab": {
          "base_uri": "https://localhost:8080/"
        },
        "id": "hcEPTEbblYvq",
        "outputId": "c544512c-a984-4c84-d1c8-10365176e743"
      },
      "execution_count": null,
      "outputs": [
        {
          "output_type": "stream",
          "name": "stdout",
          "text": [
            "  (0, 5413)\t0.6198254967574347\n",
            "  (0, 4456)\t0.4168658090846482\n",
            "  (0, 2224)\t0.413103377943378\n",
            "  (0, 3811)\t0.34780165336891333\n",
            "  (0, 2329)\t0.38783870336935383\n",
            "  (1, 4080)\t0.18880584110891163\n",
            "  (1, 3185)\t0.29694482957694585\n",
            "  (1, 3325)\t0.31610586766078863\n",
            "  (1, 2957)\t0.3398297002864083\n",
            "  (1, 2746)\t0.3398297002864083\n",
            "  (1, 918)\t0.22871581159877646\n",
            "  (1, 1839)\t0.2784903590561455\n",
            "  (1, 2758)\t0.3226407885943799\n",
            "  (1, 2956)\t0.33036995955537024\n",
            "  (1, 1991)\t0.33036995955537024\n",
            "  (1, 3046)\t0.2503712792613518\n",
            "  (1, 3811)\t0.17419952275504033\n",
            "  (2, 407)\t0.509272536051008\n",
            "  (2, 3156)\t0.4107239318312698\n",
            "  (2, 2404)\t0.45287711070606745\n",
            "  (2, 6601)\t0.6056811524587518\n",
            "  (3, 2870)\t0.5864269879324768\n",
            "  (3, 7414)\t0.8100020912469564\n",
            "  (4, 50)\t0.23633754072626942\n",
            "  (4, 5497)\t0.15743785051118356\n",
            "  :\t:\n",
            "  (4454, 4602)\t0.2669765732445391\n",
            "  (4454, 3142)\t0.32014451677763156\n",
            "  (4455, 2247)\t0.37052851863170466\n",
            "  (4455, 2469)\t0.35441545511837946\n",
            "  (4455, 5646)\t0.33545678464631296\n",
            "  (4455, 6810)\t0.29731757715898277\n",
            "  (4455, 6091)\t0.23103841516927642\n",
            "  (4455, 7113)\t0.30536590342067704\n",
            "  (4455, 3872)\t0.3108911491788658\n",
            "  (4455, 4715)\t0.30714144758811196\n",
            "  (4455, 6916)\t0.19636985317119715\n",
            "  (4455, 3922)\t0.31287563163368587\n",
            "  (4455, 4456)\t0.24920025316220423\n",
            "  (4456, 141)\t0.292943737785358\n",
            "  (4456, 647)\t0.30133182431707617\n",
            "  (4456, 6311)\t0.30133182431707617\n",
            "  (4456, 5569)\t0.4619395404299172\n",
            "  (4456, 6028)\t0.21034888000987115\n",
            "  (4456, 7154)\t0.24083218452280053\n",
            "  (4456, 7150)\t0.3677554681447669\n",
            "  (4456, 6249)\t0.17573831794959716\n",
            "  (4456, 6307)\t0.2752760476857975\n",
            "  (4456, 334)\t0.2220077711654938\n",
            "  (4456, 5778)\t0.16243064490100795\n",
            "  (4456, 2870)\t0.31523196273113385\n"
          ]
        }
      ]
    },
    {
      "cell_type": "code",
      "source": [
        "model = LogisticRegression()\n",
        "model.fit(X_train_features,Y_train)"
      ],
      "metadata": {
        "id": "YH8NXf9Nleya",
        "colab": {
          "base_uri": "https://localhost:8080/",
          "height": 75
        },
        "outputId": "cf5bfcc1-1605-49ab-ae5f-a648196e0532"
      },
      "execution_count": null,
      "outputs": [
        {
          "output_type": "execute_result",
          "data": {
            "text/plain": [
              "LogisticRegression()"
            ],
            "text/html": [
              "<style>#sk-container-id-1 {color: black;}#sk-container-id-1 pre{padding: 0;}#sk-container-id-1 div.sk-toggleable {background-color: white;}#sk-container-id-1 label.sk-toggleable__label {cursor: pointer;display: block;width: 100%;margin-bottom: 0;padding: 0.3em;box-sizing: border-box;text-align: center;}#sk-container-id-1 label.sk-toggleable__label-arrow:before {content: \"▸\";float: left;margin-right: 0.25em;color: #696969;}#sk-container-id-1 label.sk-toggleable__label-arrow:hover:before {color: black;}#sk-container-id-1 div.sk-estimator:hover label.sk-toggleable__label-arrow:before {color: black;}#sk-container-id-1 div.sk-toggleable__content {max-height: 0;max-width: 0;overflow: hidden;text-align: left;background-color: #f0f8ff;}#sk-container-id-1 div.sk-toggleable__content pre {margin: 0.2em;color: black;border-radius: 0.25em;background-color: #f0f8ff;}#sk-container-id-1 input.sk-toggleable__control:checked~div.sk-toggleable__content {max-height: 200px;max-width: 100%;overflow: auto;}#sk-container-id-1 input.sk-toggleable__control:checked~label.sk-toggleable__label-arrow:before {content: \"▾\";}#sk-container-id-1 div.sk-estimator input.sk-toggleable__control:checked~label.sk-toggleable__label {background-color: #d4ebff;}#sk-container-id-1 div.sk-label input.sk-toggleable__control:checked~label.sk-toggleable__label {background-color: #d4ebff;}#sk-container-id-1 input.sk-hidden--visually {border: 0;clip: rect(1px 1px 1px 1px);clip: rect(1px, 1px, 1px, 1px);height: 1px;margin: -1px;overflow: hidden;padding: 0;position: absolute;width: 1px;}#sk-container-id-1 div.sk-estimator {font-family: monospace;background-color: #f0f8ff;border: 1px dotted black;border-radius: 0.25em;box-sizing: border-box;margin-bottom: 0.5em;}#sk-container-id-1 div.sk-estimator:hover {background-color: #d4ebff;}#sk-container-id-1 div.sk-parallel-item::after {content: \"\";width: 100%;border-bottom: 1px solid gray;flex-grow: 1;}#sk-container-id-1 div.sk-label:hover label.sk-toggleable__label {background-color: #d4ebff;}#sk-container-id-1 div.sk-serial::before {content: \"\";position: absolute;border-left: 1px solid gray;box-sizing: border-box;top: 0;bottom: 0;left: 50%;z-index: 0;}#sk-container-id-1 div.sk-serial {display: flex;flex-direction: column;align-items: center;background-color: white;padding-right: 0.2em;padding-left: 0.2em;position: relative;}#sk-container-id-1 div.sk-item {position: relative;z-index: 1;}#sk-container-id-1 div.sk-parallel {display: flex;align-items: stretch;justify-content: center;background-color: white;position: relative;}#sk-container-id-1 div.sk-item::before, #sk-container-id-1 div.sk-parallel-item::before {content: \"\";position: absolute;border-left: 1px solid gray;box-sizing: border-box;top: 0;bottom: 0;left: 50%;z-index: -1;}#sk-container-id-1 div.sk-parallel-item {display: flex;flex-direction: column;z-index: 1;position: relative;background-color: white;}#sk-container-id-1 div.sk-parallel-item:first-child::after {align-self: flex-end;width: 50%;}#sk-container-id-1 div.sk-parallel-item:last-child::after {align-self: flex-start;width: 50%;}#sk-container-id-1 div.sk-parallel-item:only-child::after {width: 0;}#sk-container-id-1 div.sk-dashed-wrapped {border: 1px dashed gray;margin: 0 0.4em 0.5em 0.4em;box-sizing: border-box;padding-bottom: 0.4em;background-color: white;}#sk-container-id-1 div.sk-label label {font-family: monospace;font-weight: bold;display: inline-block;line-height: 1.2em;}#sk-container-id-1 div.sk-label-container {text-align: center;}#sk-container-id-1 div.sk-container {/* jupyter's `normalize.less` sets `[hidden] { display: none; }` but bootstrap.min.css set `[hidden] { display: none !important; }` so we also need the `!important` here to be able to override the default hidden behavior on the sphinx rendered scikit-learn.org. See: https://github.com/scikit-learn/scikit-learn/issues/21755 */display: inline-block !important;position: relative;}#sk-container-id-1 div.sk-text-repr-fallback {display: none;}</style><div id=\"sk-container-id-1\" class=\"sk-top-container\"><div class=\"sk-text-repr-fallback\"><pre>LogisticRegression()</pre><b>In a Jupyter environment, please rerun this cell to show the HTML representation or trust the notebook. <br />On GitHub, the HTML representation is unable to render, please try loading this page with nbviewer.org.</b></div><div class=\"sk-container\" hidden><div class=\"sk-item\"><div class=\"sk-estimator sk-toggleable\"><input class=\"sk-toggleable__control sk-hidden--visually\" id=\"sk-estimator-id-1\" type=\"checkbox\" checked><label for=\"sk-estimator-id-1\" class=\"sk-toggleable__label sk-toggleable__label-arrow\">LogisticRegression</label><div class=\"sk-toggleable__content\"><pre>LogisticRegression()</pre></div></div></div></div></div>"
            ]
          },
          "metadata": {},
          "execution_count": 22
        }
      ]
    },
    {
      "cell_type": "code",
      "source": [
        "prediction_on_training_data = model.predict(X_train_features)\n",
        "accuracy_on_training_data = accuracy_score(Y_train , prediction_on_training_data)"
      ],
      "metadata": {
        "id": "lXnD8XX2nPGi"
      },
      "execution_count": null,
      "outputs": []
    },
    {
      "cell_type": "code",
      "source": [
        "print('Accuracy:- ',accuracy_on_training_data)"
      ],
      "metadata": {
        "id": "q2qTD4AbtYKY",
        "colab": {
          "base_uri": "https://localhost:8080/"
        },
        "outputId": "b03dcd15-e0f5-4b87-c1ef-5dc47b7a9be3"
      },
      "execution_count": 24,
      "outputs": [
        {
          "output_type": "stream",
          "name": "stdout",
          "text": [
            "Accuracy:-  0.9670181736594121\n"
          ]
        }
      ]
    }
  ]
}